{
 "cells": [
  {
   "cell_type": "code",
   "execution_count": 16,
   "metadata": {},
   "outputs": [],
   "source": [
    "import os\n",
    "import cv2\n",
    "import torch\n",
    "import numpy as np\n",
    "from facenet_pytorch import MTCNN\n",
    "from tqdm import tqdm"
   ]
  },
  {
   "cell_type": "code",
   "execution_count": 17,
   "metadata": {},
   "outputs": [],
   "source": [
    "# Setup MTCNN\n",
    "device = 'cuda' if torch.cuda.is_available() else 'cpu'\n",
    "mtcnn = MTCNN(image_size=48, margin=0, device=device)"
   ]
  },
  {
   "cell_type": "code",
   "execution_count": 28,
   "metadata": {},
   "outputs": [],
   "source": [
    "# Define input and output folders\n",
    "base_input_dir = './FER-2013'  # Change this to your dataset root\n",
    "output_dir = 'processed_faces'\n",
    "os.makedirs(output_dir, exist_ok=True)"
   ]
  },
  {
   "cell_type": "code",
   "execution_count": 29,
   "metadata": {},
   "outputs": [],
   "source": [
    "# Combine both train and test\n",
    "splits = ['train', 'test']\n",
    "emotions = ['angry', 'disgust', 'fear', 'happy', 'neutral', 'sad', 'surprise']"
   ]
  },
  {
   "cell_type": "code",
   "execution_count": 30,
   "metadata": {},
   "outputs": [
    {
     "name": "stderr",
     "output_type": "stream",
     "text": [
      "train/angry: 100%|██████████| 3995/3995 [00:24<00:00, 164.57it/s]\n",
      "train/disgust: 100%|██████████| 436/436 [00:02<00:00, 195.15it/s]\n",
      "train/fear: 100%|██████████| 4097/4097 [00:21<00:00, 193.49it/s]\n",
      "train/happy: 100%|██████████| 7215/7215 [00:41<00:00, 172.42it/s]\n",
      "train/neutral: 100%|██████████| 4965/4965 [00:30<00:00, 163.22it/s]\n",
      "train/sad: 100%|██████████| 4830/4830 [00:26<00:00, 183.16it/s]\n",
      "train/surprise: 100%|██████████| 3171/3171 [00:18<00:00, 173.29it/s]\n",
      "test/angry: 100%|██████████| 958/958 [00:05<00:00, 184.01it/s]\n",
      "test/disgust: 100%|██████████| 111/111 [00:00<00:00, 195.95it/s]\n",
      "test/fear: 100%|██████████| 1024/1024 [00:04<00:00, 209.26it/s]\n",
      "test/happy: 100%|██████████| 1774/1774 [00:10<00:00, 163.94it/s]\n",
      "test/neutral: 100%|██████████| 1233/1233 [00:08<00:00, 149.54it/s]\n",
      "test/sad: 100%|██████████| 1247/1247 [00:08<00:00, 148.40it/s]\n",
      "test/surprise: 100%|██████████| 831/831 [00:04<00:00, 191.09it/s]\n"
     ]
    }
   ],
   "source": [
    "# Stats counters\n",
    "stats = {emotion: {\n",
    "    'total': 0,\n",
    "    'none_image': 0,\n",
    "    'no_face': 0,\n",
    "    'success': 0\n",
    "} for emotion in emotions}\n",
    "\n",
    "for split in splits:\n",
    "    for emotion in emotions:\n",
    "        input_folder = os.path.join(base_input_dir, split, emotion)\n",
    "        output_subfolder = os.path.join(output_dir, emotion)\n",
    "        os.makedirs(output_subfolder, exist_ok=True)\n",
    "\n",
    "        for img_name in tqdm(os.listdir(input_folder), desc=f\"{split}/{emotion}\"):\n",
    "            stats[emotion]['total'] += 1\n",
    "            img_path = os.path.join(input_folder, img_name)\n",
    "            image = cv2.imread(img_path)\n",
    "\n",
    "            if image is None:\n",
    "                stats[emotion]['none_image'] += 1\n",
    "                continue\n",
    "\n",
    "            image_rgb = cv2.cvtColor(image, cv2.COLOR_BGR2RGB)\n",
    "            face = mtcnn(image_rgb)\n",
    "\n",
    "            if face is None:\n",
    "                stats[emotion]['no_face'] += 1\n",
    "                continue\n",
    "\n",
    "            face_np = face.permute(1, 2, 0).numpy()\n",
    "            face_gray = cv2.cvtColor((face_np * 255).astype(np.uint8), cv2.COLOR_RGB2GRAY)\n",
    "            face_normalized = face_gray / 255.0\n",
    "\n",
    "            save_path = os.path.join(output_subfolder, f\"{split}_{img_name}\")\n",
    "            cv2.imwrite(save_path, (face_normalized * 255).astype(np.uint8))\n",
    "            stats[emotion]['success'] += 1"
   ]
  },
  {
   "cell_type": "code",
   "execution_count": 35,
   "metadata": {},
   "outputs": [
    {
     "name": "stdout",
     "output_type": "stream",
     "text": [
      "Summary Report\n",
      "Emotion    | Total  | Success  | Image None  | No Face  | Success % \n",
      "-----------------------------------------------------------------\n",
      "angry      | 4953   | 4186     | 0           | 767      |     84.51%\n",
      "disgust    | 547    | 432      | 0           | 115      |     78.98%\n",
      "fear       | 5121   | 4071     | 0           | 1050     |     79.50%\n",
      "happy      | 8989   | 7789     | 0           | 1200     |     86.65%\n",
      "neutral    | 6198   | 5541     | 0           | 657      |     89.40%\n",
      "sad        | 6077   | 4698     | 0           | 1379     |     77.31%\n",
      "surprise   | 4002   | 3442     | 0           | 560      |     86.01%\n"
     ]
    }
   ],
   "source": [
    "# Summary Report\n",
    "print(\"Summary Report\")\n",
    "print(f\"{'Emotion':<10} | {'Total':<6} | {'Success':<8} | {'Image None':<11} | {'No Face':<8} | {'Success %':<10}\")\n",
    "print(\"-\" * 65)\n",
    "\n",
    "for emotion in emotions:\n",
    "    total = stats[emotion]['total']\n",
    "    success = stats[emotion]['success']\n",
    "    none_image = stats[emotion]['none_image']\n",
    "    no_face = stats[emotion]['no_face']\n",
    "    percent = (success / total) * 100 if total > 0 else 0\n",
    "\n",
    "    print(f\"{emotion:<10} | {total:<6} | {success:<8} | {none_image:<11} | {no_face:<8} | {percent:>9.2f}%\")"
   ]
  },
  {
   "cell_type": "code",
   "execution_count": null,
   "metadata": {},
   "outputs": [],
   "source": []
  }
 ],
 "metadata": {
  "kernelspec": {
   "display_name": "Python 3",
   "language": "python",
   "name": "python3"
  },
  "language_info": {
   "codemirror_mode": {
    "name": "ipython",
    "version": 3
   },
   "file_extension": ".py",
   "mimetype": "text/x-python",
   "name": "python",
   "nbconvert_exporter": "python",
   "pygments_lexer": "ipython3",
   "version": "3.10.0"
  }
 },
 "nbformat": 4,
 "nbformat_minor": 2
}
